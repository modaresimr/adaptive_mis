{
 "cells": [
  {
   "cell_type": "code",
   "execution_count": 12,
   "metadata": {},
   "outputs": [
    {
     "data": {
      "application/vnd.jupyter.widget-view+json": {
       "model_id": "231f38779e594ef9b45f56c2342f7cad",
       "version_major": 2,
       "version_minor": 0
      },
      "text/plain": [
       "Dropdown(description='dataset', options=('select dataset', 'isic.yaml'), value='select dataset')"
      ]
     },
     "metadata": {},
     "output_type": "display_data"
    },
    {
     "name": "stdout",
     "output_type": "stream",
     "text": [
      "...............................continuing...\n",
      "selected dataset=./configs/datasets/isic.yaml\n"
     ]
    }
   ],
   "source": [
    "import os\n",
    "import ipywidgets\n",
    "import adaptive_mis as mis\n",
    "import adaptive_mis.common.jupyter_utils as ju\n",
    "from adaptive_mis.common import load_config\n",
    "from adaptive_mis.common import printc\n",
    "if 'datasets' not in os.listdir('.'):\n",
    "    os.chdir('../')\n",
    "\n",
    "CONFIG_ROOT=\"./configs\"\n",
    "DATASETS_ROOT=f\"{CONFIG_ROOT}/datasets\"\n",
    "MODELS_ROOT=f\"{CONFIG_ROOT}/models\"\n",
    "ADAPTIVE_LAYERS_ROOT=f\"{MODELS_ROOT}/adaptive\"\n",
    "EVAL_ROOT=f'{CONFIG_ROOT}/evaluation'\n",
    "\n",
    "all_datasets=sorted(os.listdir(DATASETS_ROOT))\n",
    "all_datasets.insert(0,'select dataset')\n",
    "dataset_dd=ipywidgets.Dropdown(options=all_datasets,description=\"dataset\")\n",
    "display(dataset_dd)\n",
    "ju.wait_for_user(dataset_dd)\n",
    "dataset_cfg=f'{DATASETS_ROOT}/{dataset_dd.value}'\n",
    "print(f'selected dataset={dataset_cfg}')"
   ]
  },
  {
   "cell_type": "code",
   "execution_count": 10,
   "metadata": {},
   "outputs": [
    {
     "data": {
      "application/vnd.jupyter.widget-view+json": {
       "model_id": "93549c123db24325a4a745aea9d607a6",
       "version_major": 2,
       "version_minor": 0
      },
      "text/plain": [
       "Dropdown(description='Adaptive Layer (optional)', options=('No Adaptive Layer', 'acda.yaml', 'adaptive.yaml'),…"
      ]
     },
     "metadata": {},
     "output_type": "display_data"
    },
    {
     "data": {
      "application/vnd.jupyter.widget-view+json": {
       "model_id": "ef139d36675e4bd2843cc8f932ec3fdd",
       "version_major": 2,
       "version_minor": 0
      },
      "text/plain": [
       "Dropdown(description='Main Model', options=('select model', 'acda_uctransnet.yaml', 'adapt_uctransnet.yaml', '…"
      ]
     },
     "metadata": {},
     "output_type": "display_data"
    },
    {
     "name": "stdout",
     "output_type": "stream",
     "text": [
      "...............................................................continuing...\n",
      "Selected Adaptive Layer ./configs/models/adaptive/acda.yaml\n",
      "Selected Main Model ./configs/models/multiresunet.yaml\n"
     ]
    }
   ],
   "source": [
    "all_adaptive_layers=sorted(os.listdir(ADAPTIVE_LAYERS_ROOT))\n",
    "all_adaptive_layers.insert(0,\"No Adaptive Layer\")\n",
    "adaptive_dd=ipywidgets.Dropdown(options=all_adaptive_layers,description=\"Adaptive Layer (optional)\")\n",
    "display(adaptive_dd)\n",
    "all_models=sorted([f for f in os.listdir(MODELS_ROOT) if f.endswith(\".yaml\")])\n",
    "all_models.insert(0,'select model')\n",
    "model_dd=ipywidgets.Dropdown(options=all_models,description=\"Main Model\")\n",
    "display(model_dd)\n",
    "ju.wait_for_user(model_dd)\n",
    "adaptive_layer_cfg=f'{ADAPTIVE_LAYERS_ROOT}/{adaptive_dd.value}' if \"No Adaptive Layer\" not in  adaptive_dd.value else None\n",
    "main_model_cfg=f'{MODELS_ROOT}/{model_dd.value}'\n",
    "\n",
    "print(\"Selected Adaptive Layer\", adaptive_layer_cfg)\n",
    "print(\"Selected Main Model\", main_model_cfg)"
   ]
  },
  {
   "cell_type": "code",
   "execution_count": 13,
   "metadata": {},
   "outputs": [
    {
     "data": {
      "application/vnd.jupyter.widget-view+json": {
       "model_id": "3cb22a8d84f648f5b8e09e6f3fc73748",
       "version_major": 2,
       "version_minor": 0
      },
      "text/plain": [
       "Dropdown(description='Evaluation', options=('select evaluation', 'demo.yaml', 'kfold.yaml', 'split.yaml'), val…"
      ]
     },
     "metadata": {},
     "output_type": "display_data"
    },
    {
     "name": "stdout",
     "output_type": "stream",
     "text": [
      ".................................continuing...\n",
      "Selected Evaluation ./configs/evaluation/demo.yaml\n"
     ]
    }
   ],
   "source": [
    "all_evaluations=sorted([f for f in os.listdir(EVAL_ROOT) if f.endswith(\".yaml\")])\n",
    "all_evaluations.insert(0,'select evaluation')\n",
    "eval_dd=ipywidgets.Dropdown(options=all_evaluations,description=\"Evaluation\")\n",
    "display(eval_dd)\n",
    "ju.wait_for_user(eval_dd)\n",
    "eval_cfg=f'{EVAL_ROOT}/{eval_dd.value}'\n",
    "print(\"Selected Evaluation\", eval_cfg)"
   ]
  },
  {
   "cell_type": "code",
   "execution_count": 18,
   "metadata": {},
   "outputs": [
    {
     "name": "stdout",
     "output_type": "stream",
     "text": [
      "\n",
      "dataset: !include ./configs/datasets/isic.yaml\n",
      "evaluation: !include ./configs/evaluation/demo.yaml\n",
      "run:\n",
      "    comet: True\n",
      "    save_dir: ./results/isic/Adapt:acda-multiresunet-2023-09-20T13-40-10\n",
      "\n",
      "model: \n",
      "    class: \"adaptive_mis.models.adaptive.AdaptiveModel\"\n",
      "    title: \"AdaptCustom\"\n",
      "    load_weights: false\n",
      "    params:\n",
      "        adaptive_layer: !include ./configs/models/adaptive/acda.yaml\n",
      "        main_model: !include ./configs/models/multiresunet.yaml\n",
      "\n",
      "\n",
      "{\n",
      "  \"data_loader\": {\n",
      "    \"train\": {\n",
      "      \"batch_size\": 16,\n",
      "      \"shuffle\": true,\n",
      "      \"num_workers\": 8,\n",
      "      \"pin_memory\": true\n",
      "    },\n",
      "    \"validation\": {\n",
      "      \"batch_size\": 16,\n",
      "      \"shuffle\": false,\n",
      "      \"num_workers\": 8,\n",
      "      \"pin_memory\": true\n",
      "    },\n",
      "    \"test\": {\n",
      "      \"batch_size\": 16,\n",
      "      \"shuffle\": false,\n",
      "      \"num_workers\": 4,\n",
      "      \"pin_memory\": false\n",
      "    }\n",
      "  },\n",
      "  \"training\": {\n",
      "    \"optimizer\": {\n",
      "      \"name\": \"Adam\",\n",
      "      \"params\": {\n",
      "        \"lr\": 0.0001\n",
      "      }\n",
      "    },\n",
      "    \"criterion\": {\n",
      "      \"name\": \"DiceLoss\",\n",
      "      \"params\": {}\n",
      "    },\n",
      "    \"scheduler\": {\n",
      "      \"factor\": 0.5,\n",
      "      \"patience\": 10\n",
      "    },\n",
      "    \"epochs\": 3\n",
      "  },\n",
      "  \"dataset\": {\n",
      "    \"title\": \"ISIC2018\",\n",
      "    \"class\": \"adaptive_mis.dataset.ISIC2018Dataset\",\n",
      "    \"params\": {\n",
      "      \"datadir\": \"datasets/ISIC2018\",\n",
      "      \"image_size\": 224\n",
      "    }\n",
      "  },\n",
      "  \"evaluation\": {\n",
      "    \"class\": \"adaptive_mis.evaluation.Split\",\n",
      "    \"title\": \"Demo\",\n",
      "    \"params\": {\n",
      "      \"seed\": 1,\n",
      "      \"slice\": 0.03,\n",
      "      \"val_size\": 0.5,\n",
      "      \"test_size\": 0.3\n",
      "    }\n",
      "  },\n",
      "  \"run\": {\n",
      "    \"comet\": true,\n",
      "    \"save_dir\": \"./results/isic/Adapt:acda-multiresunet-2023-09-20T13-40-10\"\n",
      "  },\n",
      "  \"model\": {\n",
      "    \"class\": \"adaptive_mis.models.adaptive.AdaptiveModel\",\n",
      "    \"title\": \"AdaptCustom\",\n",
      "    \"load_weights\": false,\n",
      "    \"params\": {\n",
      "      \"adaptive_layer\": {\n",
      "        \"class\": \"adaptive_mis.models.adaptive.Conv_ACDA\",\n",
      "        \"title\": \"ACDA\",\n",
      "        \"params\": {\n",
      "          \"adaptive_kernel_min_size\": 3,\n",
      "          \"adaptive_kernel_max_size\": 9\n",
      "        }\n",
      "      },\n",
      "      \"main_model\": {\n",
      "        \"class\": \"adaptive_mis.models.multiresunet.MultiResUnet\",\n",
      "        \"title\": \"MultiResUnet\",\n",
      "        \"load_weights\": false,\n",
      "        \"params\": {\n",
      "          \"filters\": 32\n",
      "        }\n",
      "      }\n",
      "    }\n",
      "  }\n",
      "}\n"
     ]
    }
   ],
   "source": [
    "from datetime import datetime\n",
    "import os\n",
    "def basename(path):\n",
    "    return os.path.basename(path).split('.')[0]\n",
    "\n",
    "\n",
    "if adaptive_layer_cfg:\n",
    "    model_cfg=f\"\"\"\n",
    "model: \n",
    "    class: \"adaptive_mis.models.adaptive.AdaptiveModel\"\n",
    "    title: \"AdaptCustom\"\n",
    "    load_weights: false\n",
    "    params:\n",
    "        adaptive_layer: !include {adaptive_layer_cfg}\n",
    "        main_model: !include {main_model_cfg}\n",
    "\"\"\"\n",
    "    model_title=f\"Adapt-{basename(adaptive_layer_cfg)}-{basename(main_model_cfg)}\"\n",
    "else:\n",
    "    model_cfg=f\"\"\"\n",
    "model: !include {main_model_cfg}\n",
    "\"\"\"\n",
    "    model_title=basename(main_model_cfg)\n",
    "    \n",
    "date = datetime.now().strftime(\"%Y-%m-%dT%H-%M-%S\")\n",
    "log = f'{basename(dataset_cfg)}/{model_title}-{date}'\n",
    "config=f\"\"\"\n",
    "dataset: !include {dataset_cfg}\n",
    "evaluation: !include {eval_cfg}\n",
    "run:\n",
    "    comet: True\n",
    "    save_dir: ./results/{log}\n",
    "{model_cfg}\n",
    "\"\"\"\n",
    "\n",
    "    \n",
    "print(config)\n",
    "\n",
    "\n",
    "cfg=load_config(f\"!include {CONFIG_ROOT}/common.yaml\")\n",
    "cfg.update(load_config(config))\n",
    "import json\n",
    "print(json.dumps(cfg, indent=2))"
   ]
  },
  {
   "cell_type": "code",
   "execution_count": 20,
   "metadata": {},
   "outputs": [
    {
     "name": "stderr",
     "output_type": "stream",
     "text": [
      "\u001b[1;38;5;214mCOMET WARNING:\u001b[0m To get all data logged automatically, import comet_ml before the following modules: sklearn.\n",
      "\u001b[1;38;5;214mCOMET WARNING:\u001b[0m As you are running in a Jupyter environment, you will need to call `experiment.end()` when finished to ensure all metrics and code are logged before exiting.\n"
     ]
    },
    {
     "name": "stdout",
     "output_type": "stream",
     "text": [
      "Torch device: cpu\n",
      "{\n",
      "  \"data_loader\": {\n",
      "    \"train\": {\n",
      "      \"batch_size\": 16,\n",
      "      \"shuffle\": true,\n",
      "      \"num_workers\": 8,\n",
      "      \"pin_memory\": true\n",
      "    },\n",
      "    \"validation\": {\n",
      "      \"batch_size\": 16,\n",
      "      \"shuffle\": false,\n",
      "      \"num_workers\": 8,\n",
      "      \"pin_memory\": true\n",
      "    },\n",
      "    \"test\": {\n",
      "      \"batch_size\": 16,\n",
      "      \"shuffle\": false,\n",
      "      \"num_workers\": 4,\n",
      "      \"pin_memory\": false\n",
      "    }\n",
      "  },\n",
      "  \"training\": {\n",
      "    \"optimizer\": {\n",
      "      \"name\": \"Adam\",\n",
      "      \"params\": {\n",
      "        \"lr\": 0.0001\n",
      "      }\n",
      "    },\n",
      "    \"criterion\": {\n",
      "      \"name\": \"DiceLoss\",\n",
      "      \"params\": {}\n",
      "    },\n",
      "    \"scheduler\": {\n",
      "      \"factor\": 0.5,\n",
      "      \"patience\": 10\n",
      "    },\n",
      "    \"epochs\": 3\n",
      "  },\n",
      "  \"dataset\": {\n",
      "    \"title\": \"ISIC2018\",\n",
      "    \"class\": \"adaptive_mis.dataset.ISIC2018Dataset\",\n",
      "    \"params\": {\n",
      "      \"datadir\": \"datasets/ISIC2018\",\n",
      "      \"image_size\": 224\n",
      "    }\n",
      "  },\n",
      "  \"evaluation\": {\n",
      "    \"class\": \"adaptive_mis.evaluation.Split\",\n",
      "    \"title\": \"Demo\",\n",
      "    \"params\": {\n",
      "      \"seed\": 1,\n",
      "      \"slice\": 0.03,\n",
      "      \"val_size\": 0.5,\n",
      "      \"test_size\": 0.3\n",
      "    }\n",
      "  },\n",
      "  \"run\": {\n",
      "    \"comet\": true,\n",
      "    \"save_dir\": \"./results/isic/Adapt:acda-multiresunet-2023-09-20T13-40-10\"\n",
      "  },\n",
      "  \"model\": {\n",
      "    \"class\": \"adaptive_mis.models.adaptive.AdaptiveModel\",\n",
      "    \"title\": \"AdaptCustom\",\n",
      "    \"load_weights\": false,\n",
      "    \"params\": {\n",
      "      \"adaptive_layer\": {\n",
      "        \"class\": \"adaptive_mis.models.adaptive.Conv_ACDA\",\n",
      "        \"title\": \"ACDA\",\n",
      "        \"params\": {\n",
      "          \"adaptive_kernel_min_size\": 3,\n",
      "          \"adaptive_kernel_max_size\": 9\n",
      "        }\n",
      "      },\n",
      "      \"main_model\": {\n",
      "        \"class\": \"adaptive_mis.models.multiresunet.MultiResUnet\",\n",
      "        \"title\": \"MultiResUnet\",\n",
      "        \"load_weights\": false,\n",
      "        \"params\": {\n",
      "          \"filters\": 32\n",
      "        }\n",
      "      }\n",
      "    }\n",
      "  }\n",
      "}\n",
      "~-~-~-~-~-~-~-~-~-~-~-~-~-~-~-~-~-~-~-~- \n",
      "\n"
     ]
    },
    {
     "name": "stderr",
     "output_type": "stream",
     "text": [
      "\u001b[1;38;5;39mCOMET INFO:\u001b[0m Experiment is live on comet.com https://www.comet.com/modaresimr/isic2018/aaff2d97aef2407fb77897c63c80e58c\n",
      "\n"
     ]
    },
    {
     "ename": "NotADirectoryError",
     "evalue": "[WinError 267] The directory name is invalid: './results/isic/Adapt:acda-multiresunet-2023-09-20T13-40-10'",
     "output_type": "error",
     "traceback": [
      "\u001b[1;31m---------------------------------------------------------------------------\u001b[0m",
      "\u001b[1;31mNotADirectoryError\u001b[0m                        Traceback (most recent call last)",
      "\u001b[1;32mc:\\D\\Projects\\adaptive_mis\\notebooks\\2-Runner.ipynb Cell 5\u001b[0m line \u001b[0;36m<cell line: 3>\u001b[1;34m()\u001b[0m\n\u001b[0;32m      <a href='vscode-notebook-cell:/c%3A/D/Projects/adaptive_mis/notebooks/2-Runner.ipynb#W4sZmlsZQ%3D%3D?line=0'>1</a>\u001b[0m \u001b[39mfrom\u001b[39;00m \u001b[39madaptive_mis\u001b[39;00m \u001b[39mimport\u001b[39;00m pipeline\n\u001b[1;32m----> <a href='vscode-notebook-cell:/c%3A/D/Projects/adaptive_mis/notebooks/2-Runner.ipynb#W4sZmlsZQ%3D%3D?line=2'>3</a>\u001b[0m pipeline\u001b[39m.\u001b[39;49mexecute(cfg)\n",
      "File \u001b[1;32mc:\\d\\projects\\adaptive_mis\\adaptive_mis\\pipeline.py:132\u001b[0m, in \u001b[0;36mexecute\u001b[1;34m(config)\u001b[0m\n\u001b[0;32m    130\u001b[0m \u001b[39mprint\u001b[39m(\u001b[39m20\u001b[39m \u001b[39m*\u001b[39m \u001b[39m\"\u001b[39m\u001b[39m~-\u001b[39m\u001b[39m\"\u001b[39m, \u001b[39m\"\u001b[39m\u001b[39m\\n\u001b[39;00m\u001b[39m\"\u001b[39m)\n\u001b[0;32m    131\u001b[0m setup_comet(config)\n\u001b[1;32m--> 132\u001b[0m os\u001b[39m.\u001b[39;49mmakedirs(config[\u001b[39m'\u001b[39;49m\u001b[39mrun\u001b[39;49m\u001b[39m'\u001b[39;49m][\u001b[39m'\u001b[39;49m\u001b[39msave_dir\u001b[39;49m\u001b[39m'\u001b[39;49m], exist_ok\u001b[39m=\u001b[39;49m\u001b[39mTrue\u001b[39;49;00m)\n\u001b[0;32m    133\u001b[0m save_config(config, config[\u001b[39m'\u001b[39m\u001b[39mrun\u001b[39m\u001b[39m'\u001b[39m][\u001b[39m'\u001b[39m\u001b[39msave_dir\u001b[39m\u001b[39m'\u001b[39m] \u001b[39m+\u001b[39m \u001b[39m\"\u001b[39m\u001b[39m/config.yaml\u001b[39m\u001b[39m\"\u001b[39m)\n\u001b[0;32m    135\u001b[0m set_seed()\n",
      "File \u001b[1;32mc:\\Users\\Ali\\AppData\\Local\\Programs\\Python\\Python310\\lib\\os.py:225\u001b[0m, in \u001b[0;36mmakedirs\u001b[1;34m(name, mode, exist_ok)\u001b[0m\n\u001b[0;32m    223\u001b[0m         \u001b[39mreturn\u001b[39;00m\n\u001b[0;32m    224\u001b[0m \u001b[39mtry\u001b[39;00m:\n\u001b[1;32m--> 225\u001b[0m     mkdir(name, mode)\n\u001b[0;32m    226\u001b[0m \u001b[39mexcept\u001b[39;00m \u001b[39mOSError\u001b[39;00m:\n\u001b[0;32m    227\u001b[0m     \u001b[39m# Cannot rely on checking for EEXIST, since the operating system\u001b[39;00m\n\u001b[0;32m    228\u001b[0m     \u001b[39m# could give priority to other errors like EACCES or EROFS\u001b[39;00m\n\u001b[0;32m    229\u001b[0m     \u001b[39mif\u001b[39;00m \u001b[39mnot\u001b[39;00m exist_ok \u001b[39mor\u001b[39;00m \u001b[39mnot\u001b[39;00m path\u001b[39m.\u001b[39misdir(name):\n",
      "\u001b[1;31mNotADirectoryError\u001b[0m: [WinError 267] The directory name is invalid: './results/isic/Adapt:acda-multiresunet-2023-09-20T13-40-10'"
     ]
    }
   ],
   "source": [
    "from adaptive_mis import pipeline\n",
    "\n",
    "pipeline.execute(cfg)"
   ]
  }
 ],
 "metadata": {
  "kernelspec": {
   "display_name": "Python 3",
   "language": "python",
   "name": "python3"
  },
  "language_info": {
   "codemirror_mode": {
    "name": "ipython",
    "version": 3
   },
   "file_extension": ".py",
   "mimetype": "text/x-python",
   "name": "python",
   "nbconvert_exporter": "python",
   "pygments_lexer": "ipython3",
   "version": "3.10.4"
  },
  "orig_nbformat": 4
 },
 "nbformat": 4,
 "nbformat_minor": 2
}
