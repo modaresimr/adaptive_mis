{
 "cells": [
  {
   "cell_type": "code",
   "execution_count": 6,
   "metadata": {},
   "outputs": [],
   "source": [
    "import sys,json\n",
    "import pandas as pd\n",
    "import os\n",
    "import ipywidgets as widgets\n",
    "while 'configs' not in os.listdir('.'):\n",
    "    os.chdir('../')\n",
    "import torch\n",
    "import torch.nn as nn\n",
    "import torch.nn.functional as F\n",
    "import torch.optim as optim\n",
    "import torchmetrics\n",
    "from torch.optim import Adam, SGD\n",
    "from torch.nn import BCELoss, CrossEntropyLoss\n",
    "\n",
    "# Set the directory path\n",
    "RESULTS_ROOT = './results/'\n",
    "\n",
    "# Get the list of files in the directory\n",
    "\n",
    "\n",
    "from tqdm import tqdm\n",
    "import numpy as np\n",
    "from torch.utils.data import DataLoader, Subset\n",
    "from torchvision import transforms\n",
    "img_transform = transforms.Compose([ transforms.ToTensor()])\n",
    "# transform for mask\n",
    "msk_transform = transforms.Compose([transforms.ToTensor()])\n",
    "msk_transform = torch.tensor\n",
    "from sklearn.metrics import multilabel_confusion_matrix\n",
    "import random\n",
    "from PIL import Image\n",
    "import cv2\n",
    "\n",
    "from adaptive_mis.common import load_config,loader\n"
   ]
  },
  {
   "cell_type": "code",
   "execution_count": null,
   "metadata": {},
   "outputs": [],
   "source": [
    "\n",
    "device = torch.device(\"cuda\" if torch.cuda.is_available() else \"cpu\")\n",
    "print(f\"Torch device: {device}\")\n",
    "def get_model(model_dir,fold):\n",
    "    \n",
    "    torch.cuda.empty_cache()\n",
    "    best_model = best_model.to(device)\n",
    "\n",
    "    fn = \"best_model_state_dict.pt\"\n",
    "    model_path = f\"{model_dir}/{fold}/{fn}\"\n",
    "\n",
    "    best_model.load_state_dict(torch.load(model_path))\n",
    "    result_file_path = f\"{model_dir}/{fold}/result.json\"\n",
    "    with open(result_file_path, 'r') as f:\n",
    "        results = json.loads(''.join(f.readlines()))\n",
    "    best = results['best_result']\n",
    "\n",
    "    print(f\"{model_dir.split('/')[-1]} Loaded best model weights... best loss: tr:{best['tr_loss']:0.5f} val:{best['vl_loss']:0.5f}\")\n",
    "    return best_model\n",
    "def get_metrics():\n",
    "    \n",
    "    params = {}\n",
    "    return torchmetrics.MetricCollection(\n",
    "        [\n",
    "            torchmetrics.F1Score(**params),\n",
    "            torchmetrics.Accuracy(**{**params, 'average': 'micro'}),\n",
    "            torchmetrics.Dice(**params),\n",
    "            torchmetrics.Precision(**params),\n",
    "            torchmetrics.Specificity(**params),\n",
    "            torchmetrics.Recall(**params),\n",
    "            # IoU\n",
    "            torchmetrics.JaccardIndex(**{**params, 'num_classes': 2})\n",
    "        ],\n",
    "        prefix='',\n",
    "\n",
    "    )\n",
    "from matplotlib import pyplot as plt\n",
    "from sklearn.metrics import confusion_matrix\n",
    "import ipyplot,random\n",
    "@widgets.interact\n",
    "def datasets(dataset=sorted(os.listdir(RESULTS_ROOT))):\n",
    "        # ipyplot.plot_images(debug_imgs, max_images=4, img_width=150)\n",
    "        ROOT=f'{RESULTS_ROOT}/{dataset}'\n",
    "        runns = sorted(os.listdir(ROOT, key=lambda x: os.path.getmtime(os.path.join(f'{RESULTS_ROOT}/{dataset}', x)), reverse=True))\n",
    "\n",
    "        @widgets.interact_manual\n",
    "        def compare(dirs=widgets.SelectMultiple(options=runns, description='Runns',           layout=widgets.Layout(width='100%', height='180px')),titles=\"comma seperated\"):\n",
    "            allmetrics={}\n",
    "            models={}\n",
    "            display_names={} \n",
    "            \n",
    "            for i,d in enumerate(dirs):\n",
    "                try:\n",
    "                    date=d.split('_')[-1]\n",
    "                    if len(titles.split(','))==len(dirs):\n",
    "                        display_names[d]= titles.split(',')[i]\n",
    "                    else:\n",
    "                        display_names[d]=d.replace(dataset+\"_\",'').replace(\"_\"+date,'')\n",
    "                        \n",
    "                        \n",
    "                    \n",
    "                    models[d]=model=get_model(f'{ROOT}/{d}')\n",
    "                    with open(f'{ROOT}/{d}/test_final_result.json', 'r') as f:\n",
    "                        results = json.load(f)\n",
    "                    allmetrics[d] = {k.split('/')[-1]:v for k,v in results.items()}\n",
    "                    allmetrics[d]['model']=display_names[d]\n",
    "                    allmetrics[d]['date']=date\n",
    "                except Exception as e:\n",
    "                    print(f\"skip {d} due to error-->{e}\")\n",
    "            df=pd.DataFrame(allmetrics).T.sort_values('final_JaccardIndex', ascending=False)\n",
    "            pd.set_option('display.max_rows', None)\n",
    "\n",
    "            display(df)\n",
    "            df=df.groupby(['model']).agg({'final_Accuracy':['mean','std'],'final_Dice':['mean','std'],'final_JaccardIndex':['mean','std','count']}).sort_values(('final_JaccardIndex','mean'), ascending=False)\n",
    "            df=df.round(4)\n",
    "            display(df)\n",
    "            df=df.astype(str)\n",
    "            df['Accuracy']=df[('final_Accuracy','mean')] +\"±\"+ df[('final_Accuracy','std')]\n",
    "            df['Dice']=df[('final_Dice','mean')] +\"±\"+ df[('final_Dice','std')]\n",
    "            df['IoU']=df[('final_JaccardIndex','mean')] +\"±\"+ df[('final_JaccardIndex','std')]\n",
    "            display(df[['Accuracy','Dice','IoU']])\n",
    "            print(df[['Accuracy','Dice','IoU']].to_latex()) #.replace('±','\\pm'))\n",
    "            @widgets.interact\n",
    "            def select_case(image_number=widgets.IntSlider(0,0,len(te_dataset))):\n",
    "                item=te_dataset[image_number]\n",
    "                img,msk=item['image'].cpu().numpy().astype('float32'),item['mask'].cpu().numpy().astype('float32')\n",
    "                imgv=img=np.transpose(img,(1, 2, 0))\n",
    "                if img.shape[-1]==4:\n",
    "                    imgv=img[...,:-1]\n",
    "\n",
    "                nonzero = np.where(imgv != 0)\n",
    "                roi=np.zeros((imgv.ndim,2))\n",
    "                for i in range(len(nonzero)):\n",
    "                    if len(nonzero[i]) > 0:\n",
    "                        roi[i][0] = max(0, nonzero[i].min())\n",
    "                        roi[i][1] = min( imgv.shape[i], nonzero[i].max() + 1)\n",
    "\n",
    "                # print(img.shape)\n",
    "                # debug_imgs=[img]\n",
    "                added=(img[...,-1]>0)*dataset.startswith('segpc')*.1\n",
    "                # plt.imshow(imgs[image_number][:,:,:-1])\n",
    "                device = torch.device(\"cuda\" if torch.cuda.is_available() else \"cpu\")\n",
    "                fig, axs = plt.subplots(1, len(models)+2, sharex=True, sharey=True)\n",
    "                fig.set_size_inches(1000/80, fig.get_figheight())\n",
    "\n",
    "                axs[0].imshow(imgv)\n",
    "                # axs[0].set_xlim(roi[1][0], roi[1][1])\n",
    "                # axs[0].set_ylim(roi[0][0], roi[0][1])\n",
    "                axs[1].set_title('GT')\n",
    "                plt.axis('off')\n",
    "                for i in range(len(axs)):\n",
    "                    axs[i].axis('off')\n",
    "                torch_msk=torch.stack([torch.tensor(msk).to(device)])\n",
    "                msk=np.argmax(msk,0)\n",
    "                axs[1].imshow(msk+added, cmap='gist_stern')\n",
    "                torch_img=torch.stack([transforms.ToTensor()(img).to(device)])\n",
    "                \n",
    "                \n",
    "                \n",
    "                msks_ = torch.argmax(torch_msk, 1, keepdim=False)\n",
    "                tmpres={}\n",
    "                for i,d in enumerate(models):\n",
    "                    preds=models[d](torch_img)\n",
    "                    preds_ = torch.argmax(preds, 1, keepdim=False).float()\n",
    "                    pred=preds.detach().cpu().numpy()[0][1,...]\n",
    "                    pred=pred>0.5\n",
    "                    # print(pred.shape,msk.shape,pred.max(),msk.max(),pred.min(),msk.min())\n",
    "                    \n",
    "                    # print(pred.max())\n",
    "                    axs[i+2].imshow(pred+added, cmap='gist_stern')\n",
    "                    axs[i+2].set_title(display_names[d])\n",
    "                    metrics=get_metrics().to(device)\n",
    "                    metrics.update(preds_, msks_)\n",
    "                    \n",
    "                    # cm = confusion_matrix(msk.reshape(-1), pred.reshape(-1),)\n",
    "                    # print(display_names[d])\n",
    "                    \n",
    "                    tmpres[d]={k: float(v.cpu().numpy()) for k, v in metrics.compute().items()}\n",
    "                    \n",
    "                    # with open(f'{directory}/{d}/result.json', 'r') as f:\n",
    "                    #     results = json.load(f)\n",
    "                    # allmetrics[display_name] = {k.split('/')[-1]:v for k,v in results['best_result']['te_metrics'].items()}\n",
    "                    # del models[d]\n",
    "                # print(tmpres)\n",
    "                plt.tight_layout()\n",
    "                plt.show()  \n",
    "                display(\"Only Current Image\")\n",
    "                display(pd.DataFrame(tmpres).T.round(4).sort_values('JaccardIndex', ascending=False))\n",
    "\n",
    "                \n",
    "\n",
    "#isic2018 --> 61"
   ]
  },
  {
   "cell_type": "code",
   "execution_count": null,
   "metadata": {},
   "outputs": [
    {
     "data": {
      "text/plain": [
       "<sklearn.metrics._plot.confusion_matrix.ConfusionMatrixDisplay at 0x2235156f730>"
      ]
     },
     "metadata": {},
     "output_type": "display_data"
    },
    {
     "data": {
      "image/png": "[encoded data removed]",
      "text/plain": [
       "<Figure size 432x288 with 2 Axes>"
      ]
     },
     "metadata": {},
     "output_type": "display_data"
    }
   ],
   "source": [
    "from sklearn.metrics import ConfusionMatrixDisplay\n",
    "from torch import randint\n",
    "from torchmetrics import F1Score\n",
    "from torchmetrics.classification import ConfusionMatrix\n",
    "metric = ConfusionMatrix(num_classes=5)\n",
    "metric.update(randint(5, (20,)), randint(5, (20,)))\n",
    "ConfusionMatrixDisplay(metric.compute().numpy()).plot()"
   ]
  },
  {
   "cell_type": "code",
   "execution_count": null,
   "metadata": {},
   "outputs": [
    {
     "data": {
      "text/plain": [
       "<sklearn.metrics._plot.confusion_matrix.ConfusionMatrixDisplay at 0x2235156f730>"
      ]
     },
     "metadata": {},
     "output_type": "display_data"
    },
    {
     "data": {
      "image/png": "[encoded data removed]",
      "text/plain": [
       "<Figure size 432x288 with 2 Axes>"
      ]
     },
     "metadata": {},
     "output_type": "display_data"
    }
   ],
   "source": [
    "from sklearn.metrics import ConfusionMatrixDisplay\n",
    "from torch import randint\n",
    "from torchmetrics import F1Score\n",
    "from torchmetrics.classification import ConfusionMatrix\n",
    "metric = ConfusionMatrix(num_classes=5)\n",
    "metric.update(randint(5, (20,)), randint(5, (20,)))\n",
    "ConfusionMatrixDisplay(metric.compute().numpy()).plot()"
   ]
  },
  {
   "cell_type": "code",
   "execution_count": null,
   "metadata": {},
   "outputs": [
    {
     "data": {
      "text/plain": [
       "<sklearn.metrics._plot.confusion_matrix.ConfusionMatrixDisplay at 0x2235156f730>"
      ]
     },
     "metadata": {},
     "output_type": "display_data"
    },
    {
     "data": {
      "image/png": "[encoded data removed]",
      "text/plain": [
       "<Figure size 432x288 with 2 Axes>"
      ]
     },
     "metadata": {},
     "output_type": "display_data"
    }
   ],
   "source": [
    "from sklearn.metrics import ConfusionMatrixDisplay\n",
    "from torch import randint\n",
    "from torchmetrics import F1Score\n",
    "from torchmetrics.classification import ConfusionMatrix\n",
    "metric = ConfusionMatrix(num_classes=5)\n",
    "metric.update(randint(5, (20,)), randint(5, (20,)))\n",
    "ConfusionMatrixDisplay(metric.compute().numpy()).plot()"
   ]
  },
  {
   "cell_type": "code",
   "execution_count": null,
   "metadata": {},
   "outputs": [
    {
     "data": {
      "text/plain": [
       "<sklearn.metrics._plot.confusion_matrix.ConfusionMatrixDisplay at 0x2235156f730>"
      ]
     },
     "metadata": {},
     "output_type": "display_data"
    },
    {
     "data": {
      "image/png": "[encoded data removed]",
      "text/plain": [
       "<Figure size 432x288 with 2 Axes>"
      ]
     },
     "metadata": {},
     "output_type": "display_data"
    }
   ],
   "source": [
    "from sklearn.metrics import ConfusionMatrixDisplay\n",
    "from torch import randint\n",
    "from torchmetrics import F1Score\n",
    "from torchmetrics.classification import ConfusionMatrix\n",
    "metric = ConfusionMatrix(num_classes=5)\n",
    "metric.update(randint(5, (20,)), randint(5, (20,)))\n",
    "ConfusionMatrixDisplay(metric.compute().numpy()).plot()"
   ]
  }
 ],
 "metadata": {
  "kernelspec": {
   "display_name": "Python 3",
   "language": "python",
   "name": "python3"
  },
  "language_info": {
   "codemirror_mode": {
    "name": "ipython",
    "version": 3
   },
   "file_extension": ".py",
   "mimetype": "text/x-python",
   "name": "python",
   "nbconvert_exporter": "python",
   "pygments_lexer": "ipython3",
   "version": "3.10.4"
  },
  "orig_nbformat": 4
 },
 "nbformat": 4,
 "nbformat_minor": 2
}
