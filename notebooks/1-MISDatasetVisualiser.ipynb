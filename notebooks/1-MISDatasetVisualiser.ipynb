{
 "cells": [
  {
   "cell_type": "code",
   "execution_count": 1,
   "metadata": {},
   "outputs": [
    {
     "data": {
      "application/vnd.jupyter.widget-view+json": {
       "model_id": "9a00a775dbba4fa5bbcc5f573efc83aa",
       "version_major": 2,
       "version_minor": 0
      },
      "text/plain": [
       "Dropdown(description='dataset', options=('select dataset', 'isic.yaml'), value='select dataset')"
      ]
     },
     "metadata": {},
     "output_type": "display_data"
    },
    {
     "name": "stdout",
     "output_type": "stream",
     "text": [
      "...........................continuing...\n"
     ]
    }
   ],
   "source": [
    "import os\n",
    "import ipywidgets\n",
    "import adaptive_mis as mis\n",
    "import adaptive_mis.common.jupyter_utils as ju\n",
    "from adaptive_mis.common import load_config\n",
    "from adaptive_mis.common import printc\n",
    "if 'datasets' not in os.listdir('.'):\n",
    "    os.chdir('../')\n",
    "\n",
    "all_datasets=sorted(os.listdir(f'configs/datasets'))\n",
    "all_datasets.insert(0,'select dataset')\n",
    "dataset_dd=ipywidgets.Dropdown(options=all_datasets,description=\"dataset\")\n",
    "display(dataset_dd)\n",
    "ju.wait_for_user(dataset_dd)\n",
    "dataset_file=dataset_dd.value"
   ]
  },
  {
   "cell_type": "code",
   "execution_count": 12,
   "metadata": {},
   "outputs": [],
   "source": [
    "mis.reload()\n",
    "db_config=load_config(f'configs/datasets/{dataset_file}')  \n",
    "dataset=mis.loader(db_config,'dataset')"
   ]
  },
  {
   "cell_type": "code",
   "execution_count": 13,
   "metadata": {},
   "outputs": [
    {
     "name": "stdout",
     "output_type": "stream",
     "text": [
      "Number of images: 0\n"
     ]
    }
   ],
   "source": [
    "dataset.summary()"
   ]
  },
  {
   "cell_type": "code",
   "execution_count": 17,
   "metadata": {},
   "outputs": [
    {
     "data": {
      "text/plain": [
       "<sklearn.metrics._plot.confusion_matrix.ConfusionMatrixDisplay at 0x2235156f730>"
      ]
     },
     "execution_count": 17,
     "metadata": {},
     "output_type": "execute_result"
    },
    {
     "data": {
      "image/png": "[encoded data removed]",
      "text/plain": [
       "<Figure size 432x288 with 2 Axes>"
      ]
     },
     "metadata": {
      "needs_background": "light"
     },
     "output_type": "display_data"
    }
   ],
   "source": [
    "from sklearn.metrics import ConfusionMatrixDisplay\n",
    "from torch import randint\n",
    "from torchmetrics import F1Score\n",
    "from torchmetrics.classification import ConfusionMatrix\n",
    "metric = ConfusionMatrix(num_classes=5)\n",
    "metric.update(randint(5, (20,)), randint(5, (20,)))\n",
    "ConfusionMatrixDisplay(metric.compute().numpy()).plot()"
   ]
  },
  {
   "cell_type": "code",
   "execution_count": 21,
   "metadata": {},
   "outputs": [
    {
     "data": {
      "text/html": [
       "<div>\n",
       "<style scoped>\n",
       "    .dataframe tbody tr th:only-of-type {\n",
       "        vertical-align: middle;\n",
       "    }\n",
       "\n",
       "    .dataframe tbody tr th {\n",
       "        vertical-align: top;\n",
       "    }\n",
       "\n",
       "    .dataframe thead th {\n",
       "        text-align: right;\n",
       "    }\n",
       "</style>\n",
       "<table border=\"1\" class=\"dataframe\">\n",
       "  <thead>\n",
       "    <tr style=\"text-align: right;\">\n",
       "      <th></th>\n",
       "      <th>y</th>\n",
       "    </tr>\n",
       "    <tr>\n",
       "      <th>x</th>\n",
       "      <th></th>\n",
       "    </tr>\n",
       "  </thead>\n",
       "  <tbody>\n",
       "    <tr>\n",
       "      <th>1</th>\n",
       "      <td>2</td>\n",
       "    </tr>\n",
       "  </tbody>\n",
       "</table>\n",
       "</div>"
      ],
      "text/plain": [
       "   y\n",
       "x   \n",
       "1  2"
      ]
     },
     "execution_count": 21,
     "metadata": {},
     "output_type": "execute_result"
    }
   ],
   "source": [
    "a={'x':1,'y':2}\n",
    "\n",
    "import pandas as pd\n",
    "\n",
    "pd.DataFrame([a]).set_index('x')"
   ]
  }
 ],
 "metadata": {
  "kernelspec": {
   "display_name": "Python 3",
   "language": "python",
   "name": "python3"
  },
  "language_info": {
   "codemirror_mode": {
    "name": "ipython",
    "version": 3
   },
   "file_extension": ".py",
   "mimetype": "text/x-python",
   "name": "python",
   "nbconvert_exporter": "python",
   "pygments_lexer": "ipython3",
   "version": "3.10.4"
  },
  "orig_nbformat": 4
 },
 "nbformat": 4,
 "nbformat_minor": 2
}
