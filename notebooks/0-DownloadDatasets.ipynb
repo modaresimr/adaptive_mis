{
 "cells": [
  {
   "cell_type": "markdown",
   "metadata": {},
   "source": [
    "# Download Datasets\n",
    "You need the datasets to be able to use this repository\n",
    "\n",
    "This file contain guides to download the following datasets:\n",
    "\n",
    "\n",
    "- ISIC2018 for MIS\n",
    "- SEGPC2021 for MIS\n"
   ]
  },
  {
   "cell_type": "markdown",
   "metadata": {},
   "source": [
    "# Medical Image Segmentation (MIS)"
   ]
  },
  {
   "cell_type": "markdown",
   "metadata": {},
   "source": [
    "# ISIC2018\n"
   ]
  },
  {
   "cell_type": "code",
   "execution_count": 4,
   "metadata": {},
   "outputs": [],
   "source": [
    "folder = f'../datasets/ISIC2018'\n",
    "import os,wget\n",
    "os.makedirs(folder, exist_ok=True)\n",
    "wget.download('https://isic-challenge-data.s3.amazonaws.com/2018/ISIC2018_Task1-2_Training_Input.zip',f'{folder}/ISIC2018_Task1-2_Training_Input.zip')\n",
    "wget.download('https://isic-challenge-data.s3.amazonaws.com/2018/ISIC2018_Task1_Training_GroundTruth.zip',f'{folder}/ISIC2018_Task1_Training_GroundTruth.zip')\n",
    "from zipfile import ZipFile\n",
    "with ZipFile(f'{folder}/ISIC2018_Task1-2_Training_Input.zip', 'r') as f:\n",
    "    f.extractall(folder)\n",
    "with ZipFile(f'{folder}/ISIC2018_Task1_Training_GroundTruth.zip', 'r') as f:\n",
    "    f.extractall(folder)\n",
    "\n",
    "os.remove(f'{folder}/ISIC2018_Task1-2_Training_Input.zip')\n",
    "os.remove(f'{folder}/ISIC2018_Task1_Training_GroundTruth.zip')"
   ]
  },
  {
   "cell_type": "markdown",
   "metadata": {},
   "source": [
    "## SegPC2021\n",
    "For this dataset you need API key from Kaggle. For more info visit https://christianjmills.com/posts/kaggle-obtain-api-key-tutorial/#generate-your-kaggle-api-key"
   ]
  },
  {
   "cell_type": "code",
   "execution_count": null,
   "metadata": {},
   "outputs": [],
   "source": [
    "\n",
    "import ipywidgets\n",
    "KaggleUsernameTxt=ipywidgets.Text(placeholder='Kaggle Username')\n",
    "KaggleAPIKeyTxt=ipywidgets.Text(placeholder='Enter Kaggle API key')\n",
    "display(KaggleUsernameTxt)\n",
    "display(KaggleAPIKeyTxt)"
   ]
  },
  {
   "cell_type": "code",
   "execution_count": null,
   "metadata": {},
   "outputs": [],
   "source": [
    "KaggleUsername=KaggleUsernameTxt.value \n",
    "KaggleAPIKey=KaggleAPIKeyTxt.value\n",
    "\n",
    "\n",
    "\n",
    "%pip install kaggle\n",
    "! mkdir ~/.kaggle\n",
    "! echo '{\"username\":\"$username\",\"key\":\"$key\"}' > ~/.kaggle/kaggle.json\n",
    "! chmod 600 ~/.kaggle/kaggle.json\n",
    "folder='../datasets/SegPC2021'\n",
    "!mkdir -p {folder}\n",
    "! cd {folder}\n",
    "! kaggle datasets download --unzip -p {folder} andromedablack/segpc-2021\n"
   ]
  }
 ],
 "metadata": {
  "kernelspec": {
   "display_name": "Python 3",
   "language": "python",
   "name": "python3"
  },
  "language_info": {
   "codemirror_mode": {
    "name": "ipython",
    "version": 3
   },
   "file_extension": ".py",
   "mimetype": "text/x-python",
   "name": "python",
   "nbconvert_exporter": "python",
   "pygments_lexer": "ipython3",
   "version": "3.10.4"
  },
  "orig_nbformat": 4
 },
 "nbformat": 4,
 "nbformat_minor": 2
}
